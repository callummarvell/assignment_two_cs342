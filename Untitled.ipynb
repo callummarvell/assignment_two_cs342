{
 "cells": [
  {
   "cell_type": "code",
   "execution_count": null,
   "metadata": {
    "collapsed": true
   },
   "outputs": [],
   "source": [
    "run firstTry.py"
   ]
  },
  {
   "cell_type": "code",
   "execution_count": null,
   "metadata": {
    "collapsed": true
   },
   "outputs": [],
   "source": []
  },
  {
   "cell_type": "code",
   "execution_count": 1,
   "metadata": {
    "collapsed": false
   },
   "outputs": [
    {
     "name": "stdout",
     "output_type": "stream",
     "text": [
      "0\n",
      "1\n",
      "2\n"
     ]
    }
   ],
   "source": [
    "for i in range(3):\n",
    "    print (i)"
   ]
  },
  {
   "cell_type": "code",
   "execution_count": null,
   "metadata": {
    "collapsed": true
   },
   "outputs": [],
   "source": []
  },
  {
   "cell_type": "code",
   "execution_count": null,
   "metadata": {
    "collapsed": true
   },
   "outputs": [],
   "source": []
  },
  {
   "cell_type": "code",
   "execution_count": null,
   "metadata": {
    "collapsed": true
   },
   "outputs": [],
   "source": []
  },
  {
   "cell_type": "code",
   "execution_count": null,
   "metadata": {
    "collapsed": true
   },
   "outputs": [],
   "source": []
  },
  {
   "cell_type": "code",
   "execution_count": null,
   "metadata": {
    "collapsed": true
   },
   "outputs": [],
   "source": []
  },
  {
   "cell_type": "code",
   "execution_count": 31,
   "metadata": {
    "collapsed": false
   },
   "outputs": [
    {
     "name": "stdout",
     "output_type": "stream",
     "text": [
      "         object_id         mjd  passband         flux   flux_err  detected\n",
      "0              615  59750.4229         2  -544.810303   3.622952         1\n",
      "1              615  59750.4306         1  -816.434326   5.553370         1\n",
      "2              615  59750.4383         3  -471.385529   3.801213         1\n",
      "3              615  59750.4450         4  -388.984985  11.395031         1\n",
      "4              615  59752.4070         2  -681.858887   4.041204         1\n",
      "5              615  59752.4147         1 -1061.457031   6.472994         1\n",
      "6              615  59752.4224         3  -524.954590   3.552751         1\n",
      "7              615  59752.4334         4  -393.480225   3.599346         1\n",
      "8              615  59752.4435         5  -355.886780  10.421921         1\n",
      "9              615  59767.2968         2  -548.013550   3.462291         1\n",
      "10             615  59767.3045         1  -815.188599   5.293019         1\n",
      "11             615  59767.3122         3  -475.516052   3.340643         1\n",
      "12             615  59767.3233         4  -405.663818   3.496113         1\n",
      "13             615  59767.3343         5  -421.199066   6.377517         1\n",
      "14             615  59770.2179         2  -554.903198   3.927843         1\n",
      "15             615  59770.2256         1  -820.042786   5.875329         1\n",
      "16             615  59770.2334         3  -477.004730   3.736262         1\n",
      "17             615  59770.2445         4  -400.270386   3.834955         1\n",
      "18             615  59770.2557         5  -415.286896   7.435979         1\n",
      "19             615  59779.3188         2  -630.523682   4.333287         1\n",
      "20             615  59779.3265         1  -921.002502   6.306800         1\n",
      "21             615  59779.3342         3  -518.533997   3.915225         1\n",
      "22             615  59779.3452         4  -422.184509   4.089213         1\n",
      "23             615  59779.3562         5  -422.815094   8.124096         1\n",
      "24             615  59782.1897         2  -280.039520   2.819228         1\n",
      "25             615  59782.1974         1  -449.095612   4.028310         1\n",
      "26             615  59782.2051         3  -316.704865   3.491153         1\n",
      "27             615  59782.2162         4  -332.885437   4.021619         1\n",
      "28             615  59782.2274         5  -365.075775   8.514805         1\n",
      "29             615  59797.2861         2   391.399231   3.098059         1\n",
      "...            ...         ...       ...          ...        ...       ...\n",
      "1421675  130779836  60464.2127         2     3.294472  23.675900         0\n",
      "1421676  130779836  60466.2566         0   113.988297  57.096981         0\n",
      "1421677  130779836  60490.1588         2    12.464979  23.430984         0\n",
      "1421678  130779836  60491.1907         1   -13.734149  19.639900         0\n",
      "1421679  130779836  60496.1248         2   -14.478923  23.485855         0\n",
      "1421680  130779836  60497.1472         3    12.178056  15.891281         0\n",
      "1421681  130779836  60498.1867         3   -20.815857  19.349518         0\n",
      "1421682  130779836  60499.1367         0    54.361107  40.085011         0\n",
      "1421683  130779836  60503.1145         3     9.912425  27.719427         0\n",
      "1421684  130779836  60505.1075         2    17.719660  23.651981         0\n",
      "1421685  130779836  60506.0962         5   -86.457382  57.588879         0\n",
      "1421686  130779836  60510.2053         4   -39.215195  23.872086         0\n",
      "1421687  130779836  60515.2731         5   -81.113083  46.094658         0\n",
      "1421688  130779836  60524.0372         0   136.082718  61.556919         0\n",
      "1421689  130779836  60525.0621         0    43.910740  59.821396         0\n",
      "1421690  130779836  60526.1904         3    59.376686  27.732946         0\n",
      "1421691  130779836  60528.0336         3     5.993599  27.752035         0\n",
      "1421692  130779836  60530.0978         1     2.986908  19.109673         0\n",
      "1421693  130779836  60536.0451         5     5.653964  53.119434         0\n",
      "1421694  130779836  60537.1470         3   -41.850040  26.782366         0\n",
      "1421695  130779836  60542.0489         4   -60.500492  14.743795         0\n",
      "1421696  130779836  60543.0247         4   -48.527161  24.004080         0\n",
      "1421697  130779836  60545.9844         5    32.006413  77.931732         0\n",
      "1421698  130779836  60546.9804         5    68.152985  56.351048         0\n",
      "1421699  130779836  60548.9789         4   -60.066154  34.353317         0\n",
      "1421700  130779836  60555.9838         4   -39.881969  46.477093         0\n",
      "1421701  130779836  60560.0459         1    14.894439  18.947685         0\n",
      "1421702  130779836  60571.0225         5    30.593130  50.695290         0\n",
      "1421703  130779836  60585.9974         4   -23.471439  44.819859         0\n",
      "1421704  130779836  60588.0372         0   -41.214264  51.665123         0\n",
      "\n",
      "[1421705 rows x 6 columns]\n"
     ]
    }
   ],
   "source": [
    "# %load firstTry.py\n",
    "\"\"\"\n",
    "Created on Thu Nov 15 17:37:28 2018\n",
    "\n",
    "@author: callu\n",
    "\"\"\"\n",
    "\n",
    "#%matplotlib inline\n",
    "\n",
    "import os\n",
    "from collections import Counter, OrderedDict\n",
    "import numpy as np\n",
    "from operator import itemgetter\n",
    "import matplotlib.pyplot as plt\n",
    "import pandas as pd\n",
    "#from astropy.table import Table\n",
    "import multiprocessing\n",
    "#from cesium.time_series import TimeSeries\n",
    "#import cesium.featurize as featurize\n",
    "#from tqdm import tnrange, tqdm_notebook\n",
    "import sklearn \n",
    "from sklearn.model_selection import StratifiedShuffleSplit\n",
    "from sklearn.decomposition import PCA\n",
    "from sklearn.ensemble import RandomForestClassifier\n",
    "from sklearn.metrics import confusion_matrix\n",
    "import seaborn as sns\n",
    "\n",
    "pbmap = OrderedDict([(0,'u'), (1,'g'), (2,'r'), (3,'i'), (4, 'z'), (5, 'Y')])\n",
    "\n",
    "# it also helps to have passbands associated with a color\n",
    "pbcols = OrderedDict([(0,'blueviolet'), (1,'green'), (2,'red'),\\\n",
    "                      (3,'orange'), (4, 'black'), (5, 'brown')])\n",
    "\n",
    "pbnames = list(pbmap.values())\n",
    "\n",
    "#datadir = '../input/plasticc-astronomy-starter-kit-media'\n",
    "metafilename = '../../../../../../courses/cs342/Assignment2/training_set_metadata.csv'\n",
    "trainmeta = pd.read_csv(metafilename)\n",
    "\n",
    "trainfilename = '../../../../../../courses/cs342/Assignment2/training_set.csv'\n",
    "traindata = pd.read_csv(trainfilename)\n",
    "print (traindata)\n",
    "\n",
    "#testfilename = '../../../../../../courses/cs342/Assignment2/test_set.csv'\n",
    "#testdata = pd.read_csv(testfilename)\n",
    "\n",
    "#metafilename = '../../../../../../courses/cs342/Assignment2/test_set_metadata.csv'\n",
    "#testmeta = pd.read_csv(metafilename)\n",
    "\n",
    "#nobjects = len(trainmeta)\n",
    "#print(metadata)\n",
    "\n",
    "ts_lens = traindata.groupby(['object_id', 'passband']).size()\n",
    "f, ax = plt.subplots(figsize=(12, 6))\n",
    "sns.distplot(ts_lens, ax=ax)\n",
    "ax.set_title('distribution of time series lengths')\n",
    "\n",
    "#obj_passband = traindata.groupby(['object_id'])\n",
    "#f, ax = plt.subplots(figsize=(12, 6))\n",
    "#sns.distplot(obj_passband['flux'], ax=ax)\n",
    "#ax.set_title('distribution of flux values')\n",
    "\n",
    "#f, ax = plt.subplots(figsize=(12, 6))\n",
    "#sns.distplot(obj_passband['flux_err'], ax=ax)\n",
    "#ax.set_title('distribution of flux error values')\n",
    "\n",
    "f, ax = plt.subplots(figsize=(12, 6))\n",
    "sns.distplot(traindata['mjd'], ax=ax, bins=200)\n",
    "ax.set_title('number of observations made at each time point')\n",
    "\n",
    "f, ax = plt.subplots(figsize=(12, 6))\n",
    "sns.distplot(trainmeta['hostgal_specz'], ax=ax)\n",
    "ax.set_title('distribution of spectroscopicic redshift of host galaxies')\n",
    "\n",
    "f, ax = plt.subplots(figsize=(12, 6))\n",
    "sns.distplot(trainmeta['hostgal_photoz'], ax=ax)\n",
    "ax.set_title('distribution of photometric redshift of host galaxies')\n",
    "\n",
    "f, ax2 = plt.subplots(figsize=(12, 6))\n",
    "ax2.scatter(x=trainmeta['ra'], y=trainmeta['decl'])\n",
    "ax2.set_title('distribution of coordinates within sky using ra/decl system')\n",
    "ax2.set_xlabel('ra')\n",
    "ax2.set_ylabel('decl')\n",
    "\n",
    "plt.show()\n"
   ]
  }
 ],
 "metadata": {
  "kernelspec": {
   "display_name": "Python 2",
   "language": "python",
   "name": "python2"
  },
  "language_info": {
   "codemirror_mode": {
    "name": "ipython",
    "version": 2
   },
   "file_extension": ".py",
   "mimetype": "text/x-python",
   "name": "python",
   "nbconvert_exporter": "python",
   "pygments_lexer": "ipython2",
   "version": "2.7.5"
  }
 },
 "nbformat": 4,
 "nbformat_minor": 0
}
